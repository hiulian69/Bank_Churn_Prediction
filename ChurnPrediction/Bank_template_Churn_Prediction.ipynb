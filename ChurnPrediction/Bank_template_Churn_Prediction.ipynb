{
  "nbformat": 4,
  "nbformat_minor": 0,
  "metadata": {
    "kernelspec": {
      "display_name": "Python 3",
      "language": "python",
      "name": "python3"
    },
    "language_info": {
      "codemirror_mode": {
        "name": "ipython",
        "version": 3
      },
      "file_extension": ".py",
      "mimetype": "text/x-python",
      "name": "python",
      "nbconvert_exporter": "python",
      "pygments_lexer": "ipython3",
      "version": "3.6.8"
    },
    "colab": {
      "name": "Bank_template_Churn_Prediction.ipynb",
      "provenance": [],
      "collapsed_sections": []
    }
  },
  "cells": [
    {
      "cell_type": "markdown",
      "metadata": {
        "id": "RarNoE4PSXyr"
      },
      "source": [
        "# Bank data analysis\n",
        "\n",
        "The goal of your project is to create a robust classifier and use the data, where you will build a model that will recognize whether specific client will leave/unsubscribe the bank services.\n",
        "Make feature engineering but also try differnet models in order to get as much accuracy as possible.\n",
        "\n",
        "\n",
        "\n",
        "\n",
        "    "
      ]
    },
    {
      "cell_type": "markdown",
      "metadata": {
        "id": "ZfCA9MCqxs55"
      },
      "source": [
        "## Dataset Info\n",
        "\n",
        "* CLIENTNUM\n",
        "  - Client number. Unique identifier for the customer holding the account\n",
        "\n",
        "* Attrition_Flag (This is your target variable!)\n",
        "  - Internal event (customer activity) variable - if the account is closed then 1 else 0\n",
        "\n",
        "* Customer_Age\n",
        "  - Demographic variable - Customer's Age in Years\n",
        "\n",
        "* Gender\n",
        "  - Demographic variable - M=Male, F=Female\n",
        "\n",
        "* Dependent_count\n",
        "  - Demographic variable - Number of dependents\n",
        "\n",
        "* Education_Level\n",
        "  - Demographic variable - Educational Qualification of the account holder (example: high school, college graduate, etc.)\n",
        "\n",
        "\n",
        "* Marital_Status\n",
        "  - Demographic variable - Married, Single, Divorced, Unknown\n",
        "\n",
        "* Income_Category\n",
        "  - Demographic variable - Annual Income Category of the account holder (< $40K, $40K - 60K, $60K - $80K, $80K-$120K, > $120K, Unknown)\n",
        "\n",
        "\n",
        "* Card_Category\n",
        "  - Product Variable - Type of Card (Blue, Silver, Gold, Platinum)\n",
        "\n",
        "* Months_on_book\n",
        "  - Period of relationship with bank\n",
        "\n",
        "\n",
        "* Total_Relationship_Count\n",
        "  - Total no. of products held by the customer\n",
        "\n",
        "* Months_Inactive_12_mon\n",
        "  - No. of months inactive in the last 12 months\n",
        "\n",
        "* Contacts_Count_12_mon\n",
        "  - No. of Contacts in the last 12 months\n",
        "\n",
        "* Credit_Limit\n",
        "  - Credit Limit on the Credit Card\n",
        "\n",
        "* Total_Revolving_Bal\n",
        "  - Total Revolving Balance on the Credit Card\n",
        "\n",
        "* Avg_Open_To_Buy\n",
        "  - Open to Buy Credit Line (Average of last 12 months)\n",
        "\n",
        "* Total_Amt_Chng_Q4_Q1\n",
        "  - Change in Transaction Amount (Q4 over Q1)\n",
        "\n",
        "* Total_Trans_Amt\n",
        "  - Total Transaction Amount (Last 12 months)\n",
        "\n",
        "* Total_Trans_Ct\n",
        "  - Total Transaction Count (Last 12 months)\n",
        "\n",
        "* Total_Ct_Chng_Q4_Q1\n",
        "  - Change in Transaction Count (Q4 over Q1)\n",
        "\n",
        "* Avg_Utilization_Ratio\n",
        "  - Average Card Utilization Ratio\n",
        "\n",
        "\n"
      ]
    },
    {
      "cell_type": "markdown",
      "metadata": {
        "id": "u823cXPI0QNc"
      },
      "source": [
        "# Working Plan\n",
        "\n",
        "\n",
        "\n",
        "1. Phase 1 : Dataset\n",
        "    * Team Planning\n",
        "    * Full git project Integration\n",
        "    * General Project Research\n",
        "    * Dataset Preparation\n",
        "    * Dataset Feature Engineering\n",
        "\n",
        "2. Phase 2 : Training\n",
        "    * Make Research about your model\n",
        "    * Compose your model (try different models) \n",
        "    * Ping Pong phase with Dataset feature engineers\n",
        "    * Generate more data if needed\n",
        "    * Fine tunning of your model\n",
        "\n",
        "3. Phase 3 : Deployment\n",
        "    * Perform benchmark (precision/recall), ROC curve\n",
        "    * Model Deploy (Git)\n",
        "    * Write git Readme.md file\n",
        "    * Receive Feedback from PM"
      ]
    },
    {
      "cell_type": "markdown",
      "metadata": {
        "id": "vIGo_fGNSXys"
      },
      "source": [
        "## 0. Read data, visualize, basic statistics, understand it"
      ]
    },
    {
      "cell_type": "code",
      "metadata": {
        "id": "Xj5WSaLYSXys"
      },
      "source": [
        ""
      ],
      "execution_count": null,
      "outputs": []
    },
    {
      "cell_type": "markdown",
      "metadata": {
        "id": "qcK1sU4iSXyw"
      },
      "source": [
        "## 1. Data preprocessing, normalization, missing data, categorical data"
      ]
    },
    {
      "cell_type": "code",
      "metadata": {
        "id": "kgOelHW2SXyx"
      },
      "source": [
        ""
      ],
      "execution_count": null,
      "outputs": []
    },
    {
      "cell_type": "markdown",
      "metadata": {
        "id": "XiazHmxRSXy0"
      },
      "source": [
        "## 2. Feature Anaysis, Extraction & Selection\n",
        "(you may need to perform feature selection after creating default models and compare to them)"
      ]
    },
    {
      "cell_type": "code",
      "metadata": {
        "id": "f1QIHDpbSXy0"
      },
      "source": [
        ""
      ],
      "execution_count": null,
      "outputs": []
    },
    {
      "cell_type": "markdown",
      "metadata": {
        "id": "92THQSXGSXy3"
      },
      "source": [
        "## 3. Classification models\n",
        "- classical classification models\n",
        "- deep neural networks"
      ]
    },
    {
      "cell_type": "code",
      "metadata": {
        "id": "ve5_cjilSXy4"
      },
      "source": [
        ""
      ],
      "execution_count": null,
      "outputs": []
    },
    {
      "cell_type": "markdown",
      "metadata": {
        "id": "JGyhoU96SXy7"
      },
      "source": [
        "## 4. Evaluation and comparisons, various metrics"
      ]
    },
    {
      "cell_type": "code",
      "metadata": {
        "id": "L0_vsmimSXy8"
      },
      "source": [
        ""
      ],
      "execution_count": null,
      "outputs": []
    },
    {
      "cell_type": "markdown",
      "metadata": {
        "id": "C4TYzMqQSXy_"
      },
      "source": [
        "## 5. Hyperparameter Optimization"
      ]
    },
    {
      "cell_type": "code",
      "metadata": {
        "id": "b5DpSTA-SXy_"
      },
      "source": [
        ""
      ],
      "execution_count": null,
      "outputs": []
    },
    {
      "cell_type": "markdown",
      "metadata": {
        "id": "c1Uyu5APSXzD"
      },
      "source": [
        "## 6. Final evaluations and comparisons\n",
        "- the best model - analyze it in details, evaluate it with different train/test splits. Is it robust enough"
      ]
    },
    {
      "cell_type": "code",
      "metadata": {
        "id": "BJYe6t-oSXzD"
      },
      "source": [
        ""
      ],
      "execution_count": null,
      "outputs": []
    },
    {
      "cell_type": "markdown",
      "metadata": {
        "id": "-yo2Rs_5SXzG"
      },
      "source": [
        "## 7. Discussion, Concusions, Future improvements\n",
        "- which features are the most important\n",
        "- how will you explain the model to the management of the bank\n",
        "- how much benefit/improvement should the bank expect"
      ]
    },
    {
      "cell_type": "code",
      "metadata": {
        "id": "HSU-oBptSXzG"
      },
      "source": [
        ""
      ],
      "execution_count": null,
      "outputs": []
    }
  ]
}