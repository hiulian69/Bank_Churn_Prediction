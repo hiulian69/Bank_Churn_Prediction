{
  "nbformat": 4,
  "nbformat_minor": 0,
  "metadata": {
    "colab": {
      "name": "Hunters_notebook.ipynb",
      "provenance": [],
      "collapsed_sections": []
    },
    "kernelspec": {
      "name": "python3",
      "display_name": "Python 3"
    },
    "language_info": {
      "name": "python"
    }
  },
  "cells": [
    {
      "cell_type": "code",
      "metadata": {
        "id": "u0JkcTUYlilT"
      },
      "source": [
        "print(\"Hello fellow data scientist, this note book was created by Hunter\")"
      ],
      "execution_count": null,
      "outputs": []
    }
  ]
}