{
 "cells": [
  {
   "cell_type": "code",
   "execution_count": 2,
   "metadata": {},
   "outputs": [],
   "source": [
    "import numpy as np\n",
    "import pandas as pd\n",
    "from sklearn.model_selection import train_test_split\n",
    "\n",
    "\n",
    "import pickle\n",
    "from sklearn.esemble import \n",
    "\n",
    "from sklearn.preprocessing import LabelEncoder\n",
    "from sklearn.preprocessing import StandardScaler\n",
    "from sklearn.preprocessing import RobustScaler\n",
    "\n",
    "from sklearn.evalutation import \n",
    "\n"
   ]
  },
  {
   "cell_type": "code",
   "execution_count": 3,
   "metadata": {},
   "outputs": [],
   "source": [
    "def one_hot_encode(df, column, prefix):# found this function which is b\n",
    "    df = df.copy()\n",
    "    dummies = pd.get_dummies(df[column], prefix=prefix)\n",
    "    df = pd.concat([df, dummies], axis=1)\n",
    "    df = df.drop(column, axis=1)\n",
    "    return df\n",
    "\n",
    "def preprocess_data(df, scale=False, one_hot=False , age_groupe = False ):\n",
    "    \n",
    "    #drop ID - has only unique values\n",
    "    df = df.drop('CLIENTNUM', axis=1)\n",
    "    \n",
    "    # if True create  Age_groupe\n",
    "    if age_groupe == True:\n",
    "        list_AgeGroup = [df]\n",
    "        for column in list_AgeGroup:\n",
    "            df.loc[column[\"Customer_Age\"] < 18,  'age_group'] = 18\n",
    "            df.loc[(column[\"Customer_Age\"] >= 19) & (column[\"Customer_Age\"] <= 29), 'age_group'] = 20\n",
    "            df.loc[(column[\"Customer_Age\"] >= 30) & (column[\"Customer_Age\"] <= 39), 'age_group'] = 30\n",
    "            df.loc[(column[\"Customer_Age\"] >= 40) & (column[\"Customer_Age\"] <= 49), 'age_group'] = 40\n",
    "            df.loc[(column[\"Customer_Age\"] >= 50) & (column[\"Customer_Age\"] <= 59), 'age_group'] = 50\n",
    "            df.loc[column[\"Customer_Age\"] >= 60, 'age_group'] = 60\n",
    "        \n",
    "    \n",
    "    # handle unknown values\n",
    "    df['Income_Category'] = df['Income_Category'].replace('Unknown', np.NaN)\n",
    "   \n",
    "    \n",
    "    # Fill ordinal missing values with modes ( Income_Category column)\n",
    "    df['Income_Category'] = df['Income_Category'].fillna('Less than $40K')\n",
    "    \n",
    "    # handle unknown values of marital status\n",
    "    df['Marital_Status'] = df['Marital_Status'].replace('Unknown', np.NaN)\n",
    "    \n",
    "    # Fill missing values with dominant value ( Marital_Status column)\n",
    "    df['Marital_Status'] = df['Marital_Status'].fillna(df['Marital_Status'].value_counts().index[0])\n",
    "\n",
    "    #Ordinal Variables Encoding\n",
    "\n",
    "    Income_Category_map = {\n",
    "    'Less than $40K' : 0,\n",
    "    '$40K - $60K'    : 1,\n",
    "    '$60K - $80K'    : 2,\n",
    "    '$80K - $120K'   : 3,\n",
    "    '$120K +'        : 4\n",
    "\n",
    "    }\n",
    "    \n",
    "    \n",
    "    \n",
    "    Card_Category_map = {\n",
    "    'Blue'     : 0,\n",
    "    'Silver'   : 1,\n",
    "    'Gold'     : 2,\n",
    "    'Platinum' : 3\n",
    "    }\n",
    "\n",
    "\n",
    "    Attrition_Flag_map = {\n",
    "    'Existing Customer' : 0,\n",
    "    'Attrited Customer' : 1\n",
    "    }\n",
    "\n",
    "    # Too many Unknown value to exclude it\n",
    "    Education_Level_map = {\n",
    "    'Uneducated'    : 0,\n",
    "    'High School'   : 1,\n",
    "    'College'       : 2,\n",
    "    'Graduate'      : 3,\n",
    "    'Post-Graduate' : 4,\n",
    "    'Doctorate'     : 5,\n",
    "    'Unknown'       : 6\n",
    "    }\n",
    "    \n",
    "    Gender_Map = {\n",
    "        'M' : 0,\n",
    "        'F' : 1\n",
    "    }\n",
    "\n",
    "    df.loc[:, 'Income_Category'] = df['Income_Category'].map(Income_Category_map)\n",
    "    df.loc[:, 'Attrition_Flag'] = df['Attrition_Flag'].map(Attrition_Flag_map)\n",
    "    df.loc[:, 'Education_Level'] = df['Education_Level'].map(Education_Level_map)\n",
    "    df.loc[:, 'Gender'] = df['Gender'].map(Gender_Map)\n",
    "    \n",
    "    #encoding using the function above creating + deleting old columns\n",
    "    if one_hot == True:\n",
    "        \n",
    "        df = one_hot_encode(df, 'Marital_Status', prefix='MS')\n",
    "        df = one_hot_encode(df, 'Card_Category', prefix='CC')\n",
    "    else:\n",
    "        df.loc[:, 'Card_Category'] = df['Card_Category'].map(Card_Category_map)\n",
    "    \n",
    "    # Label Encoder\n",
    "    le = LabelEncoder()\n",
    "    \n",
    "    # the remaining categorical data are 'objects' as datatyes\n",
    "    categ = [x for x in df.columns if df[x].dtype == 'object']\n",
    "    \n",
    "    #fit_transform on each categorical column\n",
    "    for a in categ:\n",
    "        df.loc[:, a]=le.fit_transform(df.loc[:,a])\n",
    "        \n",
    "   \n",
    "    #X[\"Total_Trans_Ct_Categorical\"] = pd.cut(X.Total_Trans_Ct,bins = 16, labels = range(1,17)) \n",
    "    #X[\"Total_Trans_Amt_Categorical\"] =pd.cut(X.Total_Trans_Amt,bins = 16, labels = range(1,17))\n",
    "\n",
    "    \n",
    "    \n",
    "    \n",
    "    y = df.Attrition_Flag \n",
    "    X = df.drop('Attrition_Flag', axis=1)\n",
    "    \n",
    "   \n",
    "    \n",
    "    \n",
    "    #Scale X\n",
    "    if scale == True:\n",
    "        scaler = StandardScaler()\n",
    "        ro_sc = RobustScaler()\n",
    "\n",
    "        X_ =X.loc[:,['Customer_Age', \n",
    "                     'Dependent_count',\n",
    "                     'Months_on_book', \n",
    "                     'Total_Relationship_Count',\n",
    "                     'Months_Inactive_12_mon',\n",
    "                     'Contacts_Count_12_mon',\n",
    "                     'Credit_Limit',\n",
    "                     'Total_Revolving_Bal',\n",
    "                     'Avg_Open_To_Buy',\n",
    "                     'Total_Amt_Chng_Q4_Q1',\n",
    "                     'Total_Trans_Amt',\n",
    "                     'Total_Trans_Ct', \n",
    "                     'Total_Ct_Chng_Q4_Q1',\n",
    "                     'Avg_Utilization_Ratio']]\n",
    "        \n",
    "        X = X.drop(['Customer_Age',\n",
    "                    'Dependent_count',\n",
    "                    'Months_on_book',\n",
    "                    'Total_Relationship_Count',\n",
    "                    'Months_Inactive_12_mon',\n",
    "                    'Contacts_Count_12_mon',\n",
    "                    'Credit_Limit',\n",
    "                    'Total_Revolving_Bal',\n",
    "                    'Avg_Open_To_Buy', \n",
    "                    'Total_Amt_Chng_Q4_Q1',\n",
    "                    'Total_Trans_Amt',\n",
    "                    'Total_Trans_Ct', \n",
    "                    'Total_Ct_Chng_Q4_Q1',\n",
    "                    'Avg_Utilization_Ratio'], axis= 1)\n",
    "    \n",
    "        X_ = pd.DataFrame(scaler.fit_transform(X_), columns=X_.columns)\n",
    "        \n",
    "        X = X.merge(X_, left_index = True, right_index = True)\n",
    "        \n",
    "        \n",
    "        X_2 = X.loc[:,['Credit_Limit', 'Total_Amt_Chng_Q4_Q1','Total_Trans_Amt' ]]\n",
    "        X = X.drop(['Credit_Limit',  'Total_Amt_Chng_Q4_Q1', 'Total_Trans_Amt'], axis = 1)\n",
    "        \n",
    "        X_2 = pd.DataFrame(ro_sc.fit_transform(X_2), columns= X_2.columns)\n",
    "        X = X.merge(X_2, left_index = True, right_index = True)\n",
    "       \n",
    "    \n",
    "        #create bins for bimodal continious data\n",
    "        X[\"Total_Trans_Ct_Categorical\"] = pd.cut(X.Total_Trans_Ct,bins = 16, labels = range(1,17)) \n",
    "        X[\"Total_Trans_Amt_Categorical\"] =pd.cut(X.Total_Trans_Amt,bins = 16, labels = range(1,17))\n",
    "\n",
    "    \n",
    "    return X, y"
   ]
  },
  {
   "cell_type": "code",
   "execution_count": 4,
   "metadata": {},
   "outputs": [],
   "source": [
    "data = pd.read_csv('ChurnPrediction/churn-prediction.csv')"
   ]
  },
  {
   "cell_type": "code",
   "execution_count": 5,
   "metadata": {},
   "outputs": [],
   "source": [
    "X, y = preprocess_data(data, scale=False, one_hot=False) \n",
    "X_train, X_test, y_train, y_test = train_test_split(X, y, test_size=0.2, random_state=42)"
   ]
  },
  {
   "cell_type": "code",
   "execution_count": null,
   "metadata": {},
   "outputs": [],
   "source": []
  },
  {
   "cell_type": "code",
   "execution_count": 7,
   "metadata": {},
   "outputs": [],
   "source": [
    "grid_search_clf = pickle.load(open('grid_search.sav', 'rb'))"
   ]
  },
  {
   "cell_type": "code",
   "execution_count": 18,
   "metadata": {},
   "outputs": [
    {
     "data": {
      "text/plain": [
       "GradientBoostingClassifier(max_depth=5, max_features='log2', n_estimators=300,\n",
       "                           random_state=0)"
      ]
     },
     "execution_count": 18,
     "metadata": {},
     "output_type": "execute_result"
    }
   ],
   "source": [
    "grid_search_clf.best_estimator_"
   ]
  },
  {
   "cell_type": "code",
   "execution_count": null,
   "metadata": {},
   "outputs": [],
   "source": [
    "GradientBoostingClassifier(max_depth=5, max_features='log2', n_estimators=300,\n",
    "                           random_state=0)"
   ]
  },
  {
   "cell_type": "code",
   "execution_count": 20,
   "metadata": {},
   "outputs": [
    {
     "name": "stdout",
     "output_type": "stream",
     "text": [
      "Gradient Boost Classifier : \n",
      "               precision    recall  f1-score   support\n",
      "\n",
      "           0       0.99      0.98      0.98      1713\n",
      "           1       0.88      0.92      0.90       313\n",
      "\n",
      "    accuracy                           0.97      2026\n",
      "   macro avg       0.93      0.95      0.94      2026\n",
      "weighted avg       0.97      0.97      0.97      2026\n",
      "\n",
      "Gradient Boost Classifier Accuracy:  0.9684106614017769\n"
     ]
    }
   ],
   "source": [
    "from sklearn.ensemble import GradientBoostingClassifier\n",
    "from sklearn.metrics import accuracy_score, classification_report\n",
    "\n",
    "\n",
    "X, y = preprocess_data(data, scale=False, one_hot=False)\n",
    "X_train, X_test, y_train, y_test = train_test_split(X, y, test_size=0.2, random_state=42)\n",
    "\n",
    "\n",
    "gb = GradientBoostingClassifier(n_estimators=300, learning_rate = 0.1, max_features='log2', max_depth = 5, random_state = 0)\n",
    "gb.fit(X_train, y_train)\n",
    "\n",
    "predictGB= gb.predict(X_test)\n",
    "\n",
    "\n",
    "print('Gradient Boost Classifier : \\n', classification_report(predictGB, y_test))\n",
    "print('Gradient Boost Classifier Accuracy: ', accuracy_score(predictGB, y_test))"
   ]
  },
  {
   "cell_type": "code",
   "execution_count": 22,
   "metadata": {},
   "outputs": [
    {
     "name": "stdout",
     "output_type": "stream",
     "text": [
      "MAE: 0.0315893385982231\n",
      "MSE: 0.0315893385982231\n",
      "RMSE: 0.1777338982811751\n"
     ]
    }
   ],
   "source": [
    "from sklearn.metrics import mean_absolute_error, mean_squared_error\n",
    "\n",
    "print('MAE:', mean_absolute_error(predictGB, y_test) )\n",
    "print('MSE:', mean_squared_error(predictGB, y_test) )\n",
    "print('RMSE:', np.sqrt(mean_squared_error(predictGB, y_test) ))"
   ]
  },
  {
   "cell_type": "code",
   "execution_count": 26,
   "metadata": {},
   "outputs": [
    {
     "data": {
      "image/png": "[encoded data removed]",
      "text/plain": [
       "<Figure size 432x288 with 2 Axes>"
      ]
     },
     "metadata": {
      "needs_background": "light"
     },
     "output_type": "display_data"
    }
   ],
   "source": [
    "import seaborn as sns\n",
    "from sklearn.metrics import confusion_matrix\n",
    "\n",
    "cm = confusion_matrix(y_test, predictGB)\n",
    "sns.heatmap(cm, annot=True);"
   ]
  },
  {
   "cell_type": "code",
   "execution_count": 27,
   "metadata": {},
   "outputs": [
    {
     "ename": "TypeError",
     "evalue": "'module' object is not callable",
     "output_type": "error",
     "traceback": [
      "\u001b[0;31m---------------------------------------------------------------------------\u001b[0m",
      "\u001b[0;31mTypeError\u001b[0m                                 Traceback (most recent call last)",
      "\u001b[0;32m<ipython-input-27-91d33f3ae008>\u001b[0m in \u001b[0;36m<module>\u001b[0;34m\u001b[0m\n\u001b[1;32m      2\u001b[0m \u001b[0;34m\u001b[0m\u001b[0m\n\u001b[1;32m      3\u001b[0m \u001b[0;31m# get important features\u001b[0m\u001b[0;34m\u001b[0m\u001b[0;34m\u001b[0m\u001b[0;34m\u001b[0m\u001b[0m\n\u001b[0;32m----> 4\u001b[0;31m \u001b[0mplt\u001b[0m\u001b[0;34m.\u001b[0m\u001b[0mfigure\u001b[0m\u001b[0;34m(\u001b[0m\u001b[0mfigsize\u001b[0m\u001b[0;34m=\u001b[0m\u001b[0;34m(\u001b[0m\u001b[0;36m15\u001b[0m\u001b[0;34m,\u001b[0m\u001b[0;36m7\u001b[0m\u001b[0;34m)\u001b[0m\u001b[0;34m)\u001b[0m\u001b[0;34m\u001b[0m\u001b[0;34m\u001b[0m\u001b[0m\n\u001b[0m\u001b[1;32m      5\u001b[0m \u001b[0mfeature_list\u001b[0m \u001b[0;34m=\u001b[0m \u001b[0mpd\u001b[0m\u001b[0;34m.\u001b[0m\u001b[0mSeries\u001b[0m\u001b[0;34m(\u001b[0m\u001b[0mmodelGB\u001b[0m\u001b[0;34m.\u001b[0m\u001b[0mfeature_importances_\u001b[0m\u001b[0;34m,\u001b[0m \u001b[0mindex\u001b[0m\u001b[0;34m=\u001b[0m\u001b[0mX_train\u001b[0m\u001b[0;34m.\u001b[0m\u001b[0mcolumns\u001b[0m\u001b[0;34m)\u001b[0m\u001b[0;34m.\u001b[0m\u001b[0msort_values\u001b[0m\u001b[0;34m(\u001b[0m\u001b[0mascending\u001b[0m\u001b[0;34m=\u001b[0m\u001b[0;32mFalse\u001b[0m\u001b[0;34m)\u001b[0m\u001b[0;34m\u001b[0m\u001b[0;34m\u001b[0m\u001b[0m\n\u001b[1;32m      6\u001b[0m \u001b[0mfeature_list\u001b[0m\u001b[0;34m.\u001b[0m\u001b[0mnlargest\u001b[0m\u001b[0;34m(\u001b[0m\u001b[0;36m10\u001b[0m\u001b[0;34m)\u001b[0m\u001b[0;34m.\u001b[0m\u001b[0msort_values\u001b[0m\u001b[0;34m(\u001b[0m\u001b[0mascending\u001b[0m\u001b[0;34m=\u001b[0m\u001b[0;32mTrue\u001b[0m\u001b[0;34m)\u001b[0m\u001b[0;34m.\u001b[0m\u001b[0mplot\u001b[0m\u001b[0;34m(\u001b[0m\u001b[0mkind\u001b[0m\u001b[0;34m=\u001b[0m\u001b[0;34m'barh'\u001b[0m\u001b[0;34m)\u001b[0m\u001b[0;34m\u001b[0m\u001b[0;34m\u001b[0m\u001b[0m\n",
      "\u001b[0;31mTypeError\u001b[0m: 'module' object is not callable"
     ]
    }
   ],
   "source": [
    "import matplotlib \n",
    "\n",
    "# get important features\n",
    "plt.figure(figsize=(15,7))\n",
    "feature_list = pd.Series(modelGB.feature_importances_, index=X_train.columns).sort_values(ascending=False)\n",
    "feature_list.nlargest(10).sort_values(ascending=True).plot(kind='barh')\n",
    "plt.show()"
   ]
  },
  {
   "cell_type": "code",
   "execution_count": null,
   "metadata": {},
   "outputs": [],
   "source": []
  }
 ],
 "metadata": {
  "kernelspec": {
   "display_name": "Python 3",
   "language": "python",
   "name": "python3"
  },
  "language_info": {
   "codemirror_mode": {
    "name": "ipython",
    "version": 3
   },
   "file_extension": ".py",
   "mimetype": "text/x-python",
   "name": "python",
   "nbconvert_exporter": "python",
   "pygments_lexer": "ipython3",
   "version": "3.7.4"
  }
 },
 "nbformat": 4,
 "nbformat_minor": 4
}
