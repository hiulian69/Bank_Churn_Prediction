{
  "nbformat": 4,
  "nbformat_minor": 0,
  "metadata": {
    "colab": {
      "name": "Bank_template_Churn_Prediction_EDA.ipynb",
      "provenance": [],
      "collapsed_sections": []
    },
    "kernelspec": {
      "display_name": "Python 3",
      "language": "python",
      "name": "python3"
    },
    "language_info": {
      "codemirror_mode": {
        "name": "ipython",
        "version": 3
      },
      "file_extension": ".py",
      "mimetype": "text/x-python",
      "name": "python",
      "nbconvert_exporter": "python",
      "pygments_lexer": "ipython3",
      "version": "3.8.3"
    }
  },
  "cells": [
    {
      "cell_type": "markdown",
      "metadata": {
        "id": "RarNoE4PSXyr"
      },
      "source": [
        "# Bank data analysis\n",
        "\n",
        "The goal of your project is to create a robust classifier and use the data, where you will build a model that will recognize whether specific client will leave/unsubscribe the bank services.\n",
        "Make feature engineering but also try differnet models in order to get as much accuracy as possible.\n",
        "\n",
        "\n",
        "\n",
        "\n",
        "    "
      ]
    },
    {
      "cell_type": "markdown",
      "metadata": {
        "id": "ZfCA9MCqxs55"
      },
      "source": [
        "## Dataset Info\n",
        "\n",
        "* CLIENTNUM\n",
        "  - Client number. Unique identifier for the customer holding the account\n",
        "\n",
        "* Attrition_Flag (This is your target variable!)\n",
        "  - Internal event (customer activity) variable - if the account is closed then 1 else 0\n",
        "\n",
        "* Customer_Age\n",
        "  - Demographic variable - Customer's Age in Years\n",
        "\n",
        "* Gender\n",
        "  - Demographic variable - M=Male, F=Female\n",
        "\n",
        "* Dependent_count\n",
        "  - Demographic variable - Number of dependents\n",
        "\n",
        "* Education_Level\n",
        "  - Demographic variable - Educational Qualification of the account holder (example: high school, college graduate, etc.)\n",
        "\n",
        "\n",
        "* Marital_Status\n",
        "  - Demographic variable - Married, Single, Divorced, Unknown\n",
        "\n",
        "* Income_Category\n",
        "  - Demographic variable - Annual Income Category of the account holder (< $40K, $40K - 60K, $60K - $80K, $80K-$120K, > $120K, Unknown)\n",
        "\n",
        "\n",
        "* Card_Category\n",
        "  - Product Variable - Type of Card (Blue, Silver, Gold, Platinum)\n",
        "\n",
        "* Months_on_book\n",
        "  - Period of relationship with bank\n",
        "\n",
        "\n",
        "* Total_Relationship_Count\n",
        "  - Total no. of products held by the customer\n",
        "\n",
        "* Months_Inactive_12_mon\n",
        "  - No. of months inactive in the last 12 months\n",
        "\n",
        "* Contacts_Count_12_mon\n",
        "  - No. of Contacts in the last 12 months\n",
        "\n",
        "* Credit_Limit\n",
        "  - Credit Limit on the Credit Card\n",
        "\n",
        "* Total_Revolving_Bal\n",
        "  - Total Revolving Balance on the Credit Card\n",
        "\n",
        "* Avg_Open_To_Buy\n",
        "  - Open to Buy Credit Line (Average of last 12 months)\n",
        "\n",
        "* Total_Amt_Chng_Q4_Q1\n",
        "  - Change in Transaction Amount (Q4 over Q1)\n",
        "\n",
        "* Total_Trans_Amt\n",
        "  - Total Transaction Amount (Last 12 months)\n",
        "\n",
        "* Total_Trans_Ct\n",
        "  - Total Transaction Count (Last 12 months)\n",
        "\n",
        "* Total_Ct_Chng_Q4_Q1\n",
        "  - Change in Transaction Count (Q4 over Q1)\n",
        "\n",
        "* Avg_Utilization_Ratio\n",
        "  - Average Card Utilization Ratio\n",
        "\n",
        "\n"
      ]
    },
    {
      "cell_type": "markdown",
      "metadata": {
        "id": "u823cXPI0QNc"
      },
      "source": [
        "# Working Plan\n",
        "\n",
        "\n",
        "\n",
        "1. Phase 1 : Dataset\n",
        "    * Team Planning\n",
        "    * Full git project Integration\n",
        "    * General Project Research\n",
        "    * Dataset Preparation\n",
        "    * Dataset Feature Engineering\n",
        "\n",
        "2. Phase 2 : Training\n",
        "    * Make Research about your model\n",
        "    * Compose your model (try different models) \n",
        "    * Ping Pong phase with Dataset feature engineers\n",
        "    * Generate more data if needed\n",
        "    * Fine tunning of your model\n",
        "\n",
        "3. Phase 3 : Deployment\n",
        "    * Perform benchmark (precision/recall), ROC curve\n",
        "    * Model Deploy (Git)\n",
        "    * Write git Readme.md file\n",
        "    * Receive Feedback from PM"
      ]
    },
    {
      "cell_type": "code",
      "metadata": {
        "id": "Xj5WSaLYSXys"
      },
      "source": [
        "import numpy as np\n",
        "from scipy.io import arff\n",
        "import sklearn as sk\n",
        "from sklearn import tree\n",
        "import pandas as pd\n",
        "from matplotlib import pyplot as plt\n",
        "import seaborn as sns\n",
        "import pandas as pd\n",
        "from sklearn.metrics import confusion_matrix\n",
        "from sklearn.metrics import accuracy_score\n",
        "from sklearn.metrics import precision_score, recall_score, f1_score, fbeta_score\n",
        "import scipy.stats as stat"
      ],
      "execution_count": 115,
      "outputs": []
    },
    {
      "cell_type": "markdown",
      "metadata": {
        "id": "lt26FgM2Dx-D"
      },
      "source": [
        ""
      ]
    },
    {
      "cell_type": "markdown",
      "metadata": {
        "id": "vIGo_fGNSXys"
      },
      "source": [
        "## 0. Read data, visualize, basic statistics, understand it"
      ]
    },
    {
      "cell_type": "code",
      "metadata": {
        "id": "oD5SWXCqDx-H"
      },
      "source": [
        "data = pd.read_csv('churn-prediction.csv')\n"
      ],
      "execution_count": 116,
      "outputs": []
    },
    {
      "cell_type": "markdown",
      "metadata": {
        "id": "qcK1sU4iSXyw"
      },
      "source": [
        "## 1. Data preprocessing, normalization, missing data, categorical data"
      ]
    },
    {
      "cell_type": "code",
      "metadata": {
        "id": "kgOelHW2SXyx"
      },
      "source": [
        "credit_limit = data['Credit_Limit']\n",
        "#credit_limit_bins = pd.Series(pd.cut(credit_limit, bins= 10)).value_counts().reset_index()\n",
        "#credit_limit_bins"
      ],
      "execution_count": 117,
      "outputs": []
    },
    {
      "cell_type": "code",
      "metadata": {
        "colab": {
          "base_uri": "https://localhost:8080/"
        },
        "id": "TDXsOYB4iQAy",
        "outputId": "790111e5-934a-4b4a-9628-bd5a4734fba6"
      },
      "source": [
        "credit_limit.describe()"
      ],
      "execution_count": 118,
      "outputs": [
        {
          "output_type": "execute_result",
          "data": {
            "text/plain": [
              "count    10127.000000\n",
              "mean      8631.953698\n",
              "std       9088.776650\n",
              "min       1438.300000\n",
              "25%       2555.000000\n",
              "50%       4549.000000\n",
              "75%      11067.500000\n",
              "max      34516.000000\n",
              "Name: Credit_Limit, dtype: float64"
            ]
          },
          "metadata": {
            "tags": []
          },
          "execution_count": 118
        }
      ]
    },
    {
      "cell_type": "code",
      "metadata": {
        "colab": {
          "base_uri": "https://localhost:8080/",
          "height": 282
        },
        "id": "BY5LUIp4Jdu5",
        "outputId": "8f93465f-62fa-41f0-dc10-9cc6dd6a4c0f"
      },
      "source": [
        "credit_limit.hist()"
      ],
      "execution_count": 119,
      "outputs": [
        {
          "output_type": "execute_result",
          "data": {
            "text/plain": [
              "<matplotlib.axes._subplots.AxesSubplot at 0x7f5dab1928d0>"
            ]
          },
          "metadata": {
            "tags": []
          },
          "execution_count": 119
        },
        {
          "output_type": "display_data",
          "data": {
            "image/png": "[encoded data removed]",
            "text/plain": [
              "<Figure size 432x288 with 1 Axes>"
            ]
          },
          "metadata": {
            "tags": [],
            "needs_background": "light"
          }
        }
      ]
    },
    {
      "cell_type": "code",
      "metadata": {
        "colab": {
          "base_uri": "https://localhost:8080/",
          "height": 283
        },
        "id": "r7TFHUsuJ2Vq",
        "outputId": "bd62631d-9acc-4b3c-9075-672140e19dec"
      },
      "source": [
        "credit_limit.plot(kind='box')"
      ],
      "execution_count": 120,
      "outputs": [
        {
          "output_type": "execute_result",
          "data": {
            "text/plain": [
              "<matplotlib.axes._subplots.AxesSubplot at 0x7f5dab10eb90>"
            ]
          },
          "metadata": {
            "tags": []
          },
          "execution_count": 120
        },
        {
          "output_type": "display_data",
          "data": {
            "image/png": "[encoded data removed]",
            "text/plain": [
              "<Figure size 432x288 with 1 Axes>"
            ]
          },
          "metadata": {
            "tags": [],
            "needs_background": "light"
          }
        }
      ]
    },
    {
      "cell_type": "code",
      "metadata": {
        "id": "JMB51pFMKChE",
        "colab": {
          "base_uri": "https://localhost:8080/"
        },
        "outputId": "43773ea6-1beb-4939-b2b1-9258b3226d28"
      },
      "source": [
        "from scipy.stats import skew\n",
        "skew(credit_limit)"
      ],
      "execution_count": 121,
      "outputs": [
        {
          "output_type": "execute_result",
          "data": {
            "text/plain": [
              "1.6664789242587705"
            ]
          },
          "metadata": {
            "tags": []
          },
          "execution_count": 121
        }
      ]
    },
    {
      "cell_type": "code",
      "metadata": {
        "colab": {
          "base_uri": "https://localhost:8080/",
          "height": 336
        },
        "id": "eTFzGFPAaaFu",
        "outputId": "061015d9-7828-4d18-f53f-254f5f8e629b"
      },
      "source": [
        "credit_limit_transformed = stat.boxcox(credit_limit)\n",
        "\n",
        "plt.figure(figsize=(15,5))\n",
        "plt.subplot(1,2,1)\n",
        "plt.hist(data['Credit_Limit'])\n",
        "\n",
        "plt.subplot(1,2,2)\n",
        "plt.hist(credit_limit_transformed[0])\n",
        "plt.title(f'lambda = {credit_limit_transformed[1]}')\n",
        "plt.show()"
      ],
      "execution_count": 146,
      "outputs": [
        {
          "output_type": "display_data",
          "data": {
            "image/png": "[encoded data removed]",
            "text/plain": [
              "<Figure size 1080x360 with 2 Axes>"
            ]
          },
          "metadata": {
            "tags": [],
            "needs_background": "light"
          }
        }
      ]
    },
    {
      "cell_type": "code",
      "metadata": {
        "colab": {
          "base_uri": "https://localhost:8080/",
          "height": 266
        },
        "id": "nzPgW_0Yc2IH",
        "outputId": "114b68ad-bfb0-4e44-cb97-826d20978516"
      },
      "source": [
        "plt.figure()\n",
        "plt.subplot(1,2,1)\n",
        "data['Credit_Limit'].loc[data['Attrition_Flag']=='Existing Customer'].plot.box()\n",
        "plt.subplot(1,2,2)\n",
        "data['Credit_Limit'].loc[data['Attrition_Flag']=='Attrited Customer'].plot.box()\n",
        "plt.show()\n"
      ],
      "execution_count": 123,
      "outputs": [
        {
          "output_type": "display_data",
          "data": {
            "image/png": "[encoded data removed]",
            "text/plain": [
              "<Figure size 432x288 with 2 Axes>"
            ]
          },
          "metadata": {
            "tags": [],
            "needs_background": "light"
          }
        }
      ]
    },
    {
      "cell_type": "code",
      "metadata": {
        "colab": {
          "base_uri": "https://localhost:8080/"
        },
        "id": "A3FpAm2ITe7L",
        "outputId": "ca3cd46c-e3c6-404c-a086-6ef9157cd9b6"
      },
      "source": [
        "credit_limit = data['Credit_Limit']\n",
        "credit_limit_df = pd.DataFrame(credit_limit)\n",
        "\n",
        "Q1 = np.percentile(credit_limit_df,25)\n",
        "Q3 = np.percentile(credit_limit_df,75)\n",
        "IQR = Q3-Q1\n",
        "\n",
        "𝐿=𝑄1-1.5*𝐼𝑄𝑅\n",
        "𝑈=𝑄3+1.5*𝐼𝑄𝑅\n",
        "\n",
        "credit_limit_df['Outlier'] = (credit_limit_df < L )| (credit_limit_df > U)\n",
        "outliers = credit_limit_df['Outlier'].loc[credit_limit_df['Outlier']==True]\n",
        "# printing outliers\n",
        "print(outliers)\n",
        "\n",
        "#rang\n",
        "print('outliers range', outliers.min(), outliers.max())\n",
        "\n",
        "# counnting outliers\n",
        "print('N of outliers', credit_limit_df.loc[credit_limit_df['Outlier']==True].count())"
      ],
      "execution_count": 124,
      "outputs": [
        {
          "output_type": "stream",
          "text": [
            "6        True\n",
            "7        True\n",
            "16       True\n",
            "40       True\n",
            "45       True\n",
            "         ... \n",
            "10098    True\n",
            "10100    True\n",
            "10104    True\n",
            "10110    True\n",
            "10112    True\n",
            "Name: Outlier, Length: 984, dtype: bool\n",
            "outliers range True True\n",
            "N of outliers Credit_Limit    984\n",
            "Outlier         984\n",
            "dtype: int64\n"
          ],
          "name": "stdout"
        }
      ]
    },
    {
      "cell_type": "code",
      "metadata": {
        "id": "5TnomsfyvVD7"
      },
      "source": [
        "# Avg_Open_To_Buy_EDA - higly correlated to Credit_Limit so we probbaly won't use it"
      ],
      "execution_count": 139,
      "outputs": []
    },
    {
      "cell_type": "code",
      "metadata": {
        "id": "Xjy7h_L7vXjq"
      },
      "source": [
        "Avg_Open_To_Buy = data['Avg_Open_To_Buy']"
      ],
      "execution_count": 140,
      "outputs": []
    },
    {
      "cell_type": "code",
      "metadata": {
        "colab": {
          "base_uri": "https://localhost:8080/"
        },
        "id": "lgNhNp4WvsK0",
        "outputId": "f6225187-2296-43f8-b511-91dde8f24b4a"
      },
      "source": [
        "Avg_Open_To_Buy.describe()"
      ],
      "execution_count": 141,
      "outputs": [
        {
          "output_type": "execute_result",
          "data": {
            "text/plain": [
              "count    10127.000000\n",
              "mean      7469.139637\n",
              "std       9090.685324\n",
              "min          3.000000\n",
              "25%       1324.500000\n",
              "50%       3474.000000\n",
              "75%       9859.000000\n",
              "max      34516.000000\n",
              "Name: Avg_Open_To_Buy, dtype: float64"
            ]
          },
          "metadata": {
            "tags": []
          },
          "execution_count": 141
        }
      ]
    },
    {
      "cell_type": "code",
      "metadata": {
        "colab": {
          "base_uri": "https://localhost:8080/",
          "height": 282
        },
        "id": "NEciQ5-Ovw4z",
        "outputId": "4c942ca4-6d5f-4593-a9c6-092eb120ebfe"
      },
      "source": [
        "Avg_Open_To_Buy.hist()"
      ],
      "execution_count": 142,
      "outputs": [
        {
          "output_type": "execute_result",
          "data": {
            "text/plain": [
              "<matplotlib.axes._subplots.AxesSubplot at 0x7f5daa938c90>"
            ]
          },
          "metadata": {
            "tags": []
          },
          "execution_count": 142
        },
        {
          "output_type": "display_data",
          "data": {
            "image/png": "[encoded data removed]",
            "text/plain": [
              "<Figure size 432x288 with 1 Axes>"
            ]
          },
          "metadata": {
            "tags": [],
            "needs_background": "light"
          }
        }
      ]
    },
    {
      "cell_type": "code",
      "metadata": {
        "colab": {
          "base_uri": "https://localhost:8080/",
          "height": 283
        },
        "id": "Lf2iIj38v2eL",
        "outputId": "e94b40bb-5e4f-4da4-9c1e-8ff437f33ae7"
      },
      "source": [
        "Avg_Open_To_Buy.plot(kind='box')"
      ],
      "execution_count": 143,
      "outputs": [
        {
          "output_type": "execute_result",
          "data": {
            "text/plain": [
              "<matplotlib.axes._subplots.AxesSubplot at 0x7f5daa89da10>"
            ]
          },
          "metadata": {
            "tags": []
          },
          "execution_count": 143
        },
        {
          "output_type": "display_data",
          "data": {
            "image/png": "[encoded data removed]",
            "text/plain": [
              "<Figure size 432x288 with 1 Axes>"
            ]
          },
          "metadata": {
            "tags": [],
            "needs_background": "light"
          }
        }
      ]
    },
    {
      "cell_type": "code",
      "metadata": {
        "colab": {
          "base_uri": "https://localhost:8080/"
        },
        "id": "Xph_p1uywqhS",
        "outputId": "8249b136-edfc-4aed-a0c1-4f6cd350861b"
      },
      "source": [
        "skew(Avg_Open_To_Buy)"
      ],
      "execution_count": 144,
      "outputs": [
        {
          "output_type": "execute_result",
          "data": {
            "text/plain": [
              "1.6614504071556497"
            ]
          },
          "metadata": {
            "tags": []
          },
          "execution_count": 144
        }
      ]
    },
    {
      "cell_type": "code",
      "metadata": {
        "colab": {
          "base_uri": "https://localhost:8080/",
          "height": 336
        },
        "id": "mBiDtvJGwv9Z",
        "outputId": "5450c0e8-fa3b-426f-f527-f76550ca4757"
      },
      "source": [
        "Avg_Open_To_Buy_transformed = stat.boxcox(Avg_Open_To_Buy)\n",
        "\n",
        "plt.figure(figsize=(15,5))\n",
        "plt.subplot(1,2,1)\n",
        "plt.hist(data['Avg_Open_To_Buy'])\n",
        "\n",
        "plt.subplot(1,2,2)\n",
        "plt.hist(Avg_Open_To_Buy_transformed[0])\n",
        "plt.title(f'lambda = {Avg_Open_To_Buy_transformed[1]}')\n",
        "plt.show()"
      ],
      "execution_count": 145,
      "outputs": [
        {
          "output_type": "display_data",
          "data": {
            "image/png": "[encoded data removed]",
            "text/plain": [
              "<Figure size 1080x360 with 2 Axes>"
            ]
          },
          "metadata": {
            "tags": [],
            "needs_background": "light"
          }
        }
      ]
    },
    {
      "cell_type": "code",
      "metadata": {
        "colab": {
          "base_uri": "https://localhost:8080/",
          "height": 266
        },
        "id": "OqK_xdVhxB8E",
        "outputId": "7aa5088d-5013-4c46-906e-06c28713738b"
      },
      "source": [
        "plt.figure()\n",
        "plt.subplot(1,2,1)\n",
        "data['Avg_Open_To_Buy'].loc[data['Attrition_Flag']=='Existing Customer'].plot.box()\n",
        "plt.subplot(1,2,2)\n",
        "data['Avg_Open_To_Buy'].loc[data['Attrition_Flag']=='Attrited Customer'].plot.box()\n",
        "plt.show()"
      ],
      "execution_count": 147,
      "outputs": [
        {
          "output_type": "display_data",
          "data": {
            "image/png": "[encoded data removed]",
            "text/plain": [
              "<Figure size 432x288 with 2 Axes>"
            ]
          },
          "metadata": {
            "tags": [],
            "needs_background": "light"
          }
        }
      ]
    },
    {
      "cell_type": "code",
      "metadata": {
        "id": "FdPyDd2Mk5jz"
      },
      "source": [
        "# Total_Revolving_Balance_EDA"
      ],
      "execution_count": 125,
      "outputs": []
    },
    {
      "cell_type": "code",
      "metadata": {
        "id": "j5vdr5h6jHsx"
      },
      "source": [
        "Total_Revolving_Bal = data['Total_Revolving_Bal']"
      ],
      "execution_count": 126,
      "outputs": []
    },
    {
      "cell_type": "code",
      "metadata": {
        "colab": {
          "base_uri": "https://localhost:8080/"
        },
        "id": "obY4wQgIkRKu",
        "outputId": "f6948b0c-4a65-4a55-f5d9-5571cf206b35"
      },
      "source": [
        "Total_Revolving_Bal.describe()"
      ],
      "execution_count": 127,
      "outputs": [
        {
          "output_type": "execute_result",
          "data": {
            "text/plain": [
              "count    10127.000000\n",
              "mean      1162.814061\n",
              "std        814.987335\n",
              "min          0.000000\n",
              "25%        359.000000\n",
              "50%       1276.000000\n",
              "75%       1784.000000\n",
              "max       2517.000000\n",
              "Name: Total_Revolving_Bal, dtype: float64"
            ]
          },
          "metadata": {
            "tags": []
          },
          "execution_count": 127
        }
      ]
    },
    {
      "cell_type": "code",
      "metadata": {
        "colab": {
          "base_uri": "https://localhost:8080/",
          "height": 282
        },
        "id": "Ck0NUC8pjWjG",
        "outputId": "e55f968a-aa0e-4149-ab9c-386162a2afdc"
      },
      "source": [
        "Total_Revolving_Bal.hist()"
      ],
      "execution_count": 128,
      "outputs": [
        {
          "output_type": "execute_result",
          "data": {
            "text/plain": [
              "<matplotlib.axes._subplots.AxesSubplot at 0x7f5daad6add0>"
            ]
          },
          "metadata": {
            "tags": []
          },
          "execution_count": 128
        },
        {
          "output_type": "display_data",
          "data": {
            "image/png": "[encoded data removed]",
            "text/plain": [
              "<Figure size 432x288 with 1 Axes>"
            ]
          },
          "metadata": {
            "tags": [],
            "needs_background": "light"
          }
        }
      ]
    },
    {
      "cell_type": "code",
      "metadata": {
        "colab": {
          "base_uri": "https://localhost:8080/",
          "height": 283
        },
        "id": "sKo11D_rjio7",
        "outputId": "ce998fe8-969f-4bc0-855f-c25b117dd8b7"
      },
      "source": [
        "Total_Revolving_Bal.plot(kind='box')"
      ],
      "execution_count": 129,
      "outputs": [
        {
          "output_type": "execute_result",
          "data": {
            "text/plain": [
              "<matplotlib.axes._subplots.AxesSubplot at 0x7f5daad1fa10>"
            ]
          },
          "metadata": {
            "tags": []
          },
          "execution_count": 129
        },
        {
          "output_type": "display_data",
          "data": {
            "image/png": "[encoded data removed]",
            "text/plain": [
              "<Figure size 432x288 with 1 Axes>"
            ]
          },
          "metadata": {
            "tags": [],
            "needs_background": "light"
          }
        }
      ]
    },
    {
      "cell_type": "code",
      "metadata": {
        "colab": {
          "base_uri": "https://localhost:8080/"
        },
        "id": "u-vFk7qbjr1S",
        "outputId": "08328c90-b2dd-43d9-b1ce-8c9d344282ce"
      },
      "source": [
        "skew(Total_Revolving_Bal)"
      ],
      "execution_count": 130,
      "outputs": [
        {
          "output_type": "execute_result",
          "data": {
            "text/plain": [
              "-0.14881520376464566"
            ]
          },
          "metadata": {
            "tags": []
          },
          "execution_count": 130
        }
      ]
    },
    {
      "cell_type": "code",
      "metadata": {
        "colab": {
          "base_uri": "https://localhost:8080/",
          "height": 266
        },
        "id": "wbNKuHO2kj5h",
        "outputId": "cba62447-30ec-400b-9954-6fc68255770a"
      },
      "source": [
        "plt.figure()\n",
        "plt.subplot(1,2,1)\n",
        "data['Total_Revolving_Bal'].loc[data['Attrition_Flag']=='Existing Customer'].plot.box()\n",
        "plt.subplot(1,2,2)\n",
        "data['Total_Revolving_Bal'].loc[data['Attrition_Flag']=='Attrited Customer'].plot.box()\n",
        "plt.show()"
      ],
      "execution_count": 131,
      "outputs": [
        {
          "output_type": "display_data",
          "data": {
            "image/png": "[encoded data removed]",
            "text/plain": [
              "<Figure size 432x288 with 2 Axes>"
            ]
          },
          "metadata": {
            "tags": [],
            "needs_background": "light"
          }
        }
      ]
    },
    {
      "cell_type": "code",
      "metadata": {
        "id": "Je1vxpP2lA0D"
      },
      "source": [
        "# Total_Amt_Chng_Q4_Q1_EDA"
      ],
      "execution_count": 132,
      "outputs": []
    },
    {
      "cell_type": "code",
      "metadata": {
        "id": "EJMFYAZJlEp3"
      },
      "source": [
        "Total_Amt_Chng_Q4_Q1 = data['Total_Amt_Chng_Q4_Q1']"
      ],
      "execution_count": 133,
      "outputs": []
    },
    {
      "cell_type": "code",
      "metadata": {
        "colab": {
          "base_uri": "https://localhost:8080/"
        },
        "id": "tch2f5UzlKrs",
        "outputId": "c04de993-09ae-4414-fbae-6514787ad32a"
      },
      "source": [
        "Total_Amt_Chng_Q4_Q1.describe()"
      ],
      "execution_count": 134,
      "outputs": [
        {
          "output_type": "execute_result",
          "data": {
            "text/plain": [
              "count    10127.000000\n",
              "mean         0.759941\n",
              "std          0.219207\n",
              "min          0.000000\n",
              "25%          0.631000\n",
              "50%          0.736000\n",
              "75%          0.859000\n",
              "max          3.397000\n",
              "Name: Total_Amt_Chng_Q4_Q1, dtype: float64"
            ]
          },
          "metadata": {
            "tags": []
          },
          "execution_count": 134
        }
      ]
    },
    {
      "cell_type": "code",
      "metadata": {
        "colab": {
          "base_uri": "https://localhost:8080/",
          "height": 282
        },
        "id": "KO0cJi1iqEmE",
        "outputId": "cd459295-4ec7-4ebb-9587-455f80f732ba"
      },
      "source": [
        "Total_Amt_Chng_Q4_Q1.hist()"
      ],
      "execution_count": 135,
      "outputs": [
        {
          "output_type": "execute_result",
          "data": {
            "text/plain": [
              "<matplotlib.axes._subplots.AxesSubplot at 0x7f5daababe90>"
            ]
          },
          "metadata": {
            "tags": []
          },
          "execution_count": 135
        },
        {
          "output_type": "display_data",
          "data": {
            "image/png": "[encoded data removed]",
            "text/plain": [
              "<Figure size 432x288 with 1 Axes>"
            ]
          },
          "metadata": {
            "tags": [],
            "needs_background": "light"
          }
        }
      ]
    },
    {
      "cell_type": "code",
      "metadata": {
        "colab": {
          "base_uri": "https://localhost:8080/"
        },
        "id": "Hg36PcxWqEx3",
        "outputId": "9aeeba20-7300-4239-b93a-a98d32cd0b33"
      },
      "source": [
        "skew(Total_Amt_Chng_Q4_Q1)"
      ],
      "execution_count": 136,
      "outputs": [
        {
          "output_type": "execute_result",
          "data": {
            "text/plain": [
              "1.7318068495622143"
            ]
          },
          "metadata": {
            "tags": []
          },
          "execution_count": 136
        }
      ]
    },
    {
      "cell_type": "code",
      "metadata": {
        "colab": {
          "base_uri": "https://localhost:8080/",
          "height": 336
        },
        "id": "lrjKfWGrqO-N",
        "outputId": "b8a22762-fe5e-46dc-9181-94c411a2f43d"
      },
      "source": [
        "import math\n",
        "Total_Amt_Chng_Q4_Q1_transformed = []\n",
        "for i in Total_Amt_Chng_Q4_Q1:\n",
        "  if i > 0:\n",
        "    Total_Amt_Chng_Q4_Q1_transformed.append(math.log(i))\n",
        "  if i == 0:\n",
        "    i = 0.01\n",
        "    Total_Amt_Chng_Q4_Q1_transformed.append(math.log(i))\n",
        "\n",
        "plt.figure(figsize=(15,5))\n",
        "plt.subplot(1,2,1)\n",
        "plt.hist(df['Total_Amt_Chng_Q4_Q1'])\n",
        "\n",
        "plt.subplot(1,2,2)\n",
        "plt.hist(Total_Amt_Chng_Q4_Q1_transformed[0])\n",
        "plt.title(f'lambda = {Total_Amt_Chng_Q4_Q1_transformed[1]}')\n",
        "plt.show()"
      ],
      "execution_count": 137,
      "outputs": [
        {
          "output_type": "display_data",
          "data": {
            "image/png": "[encoded data removed]",
            "text/plain": [
              "<Figure size 1080x360 with 2 Axes>"
            ]
          },
          "metadata": {
            "tags": [],
            "needs_background": "light"
          }
        }
      ]
    },
    {
      "cell_type": "code",
      "metadata": {
        "colab": {
          "base_uri": "https://localhost:8080/",
          "height": 267
        },
        "id": "hoBSi_a3tYf2",
        "outputId": "49c3465f-0412-49ca-aee6-bf99125004e0"
      },
      "source": [
        "plt.figure()\n",
        "plt.subplot(1,2,1)\n",
        "data['Total_Amt_Chng_Q4_Q1'].loc[data['Attrition_Flag']=='Existing Customer'].plot.box()\n",
        "plt.subplot(1,2,2)\n",
        "data['Total_Amt_Chng_Q4_Q1'].loc[data['Attrition_Flag']=='Attrited Customer'].plot.box()\n",
        "plt.show()"
      ],
      "execution_count": 138,
      "outputs": [
        {
          "output_type": "display_data",
          "data": {
            "image/png": "[encoded data removed]",
            "text/plain": [
              "<Figure size 432x288 with 2 Axes>"
            ]
          },
          "metadata": {
            "tags": [],
            "needs_background": "light"
          }
        }
      ]
    },
    {
      "cell_type": "markdown",
      "metadata": {
        "id": "XiazHmxRSXy0"
      },
      "source": [
        "## 2. Feature Anaysis, Extraction & Selection\n",
        "(you may need to perform feature selection after creating default models and compare to them)"
      ]
    },
    {
      "cell_type": "code",
      "metadata": {
        "id": "f1QIHDpbSXy0"
      },
      "source": [
        ""
      ],
      "execution_count": 138,
      "outputs": []
    },
    {
      "cell_type": "markdown",
      "metadata": {
        "id": "92THQSXGSXy3"
      },
      "source": [
        "## 3. Classification models\n",
        "- classical classification models\n",
        "- deep neural networks"
      ]
    },
    {
      "cell_type": "code",
      "metadata": {
        "id": "ve5_cjilSXy4"
      },
      "source": [
        ""
      ],
      "execution_count": 138,
      "outputs": []
    },
    {
      "cell_type": "markdown",
      "metadata": {
        "id": "JGyhoU96SXy7"
      },
      "source": [
        "## 4. Evaluation and comparisons, various metrics"
      ]
    },
    {
      "cell_type": "code",
      "metadata": {
        "id": "L0_vsmimSXy8"
      },
      "source": [
        ""
      ],
      "execution_count": 138,
      "outputs": []
    },
    {
      "cell_type": "markdown",
      "metadata": {
        "id": "C4TYzMqQSXy_"
      },
      "source": [
        "## 5. Hyperparameter Optimization"
      ]
    },
    {
      "cell_type": "code",
      "metadata": {
        "id": "b5DpSTA-SXy_"
      },
      "source": [
        ""
      ],
      "execution_count": 138,
      "outputs": []
    },
    {
      "cell_type": "markdown",
      "metadata": {
        "id": "c1Uyu5APSXzD"
      },
      "source": [
        "## 6. Final evaluations and comparisons\n",
        "- the best model - analyze it in details, evaluate it with different train/test splits. Is it robust enough"
      ]
    },
    {
      "cell_type": "code",
      "metadata": {
        "id": "BJYe6t-oSXzD"
      },
      "source": [
        ""
      ],
      "execution_count": 138,
      "outputs": []
    },
    {
      "cell_type": "markdown",
      "metadata": {
        "id": "-yo2Rs_5SXzG"
      },
      "source": [
        "## 7. Discussion, Concusions, Future improvements\n",
        "- which features are the most important\n",
        "- how will you explain the model to the management of the bank\n",
        "- how much benefit/improvement should the bank expect"
      ]
    },
    {
      "cell_type": "code",
      "metadata": {
        "id": "HSU-oBptSXzG"
      },
      "source": [
        ""
      ],
      "execution_count": 138,
      "outputs": []
    }
  ]
}